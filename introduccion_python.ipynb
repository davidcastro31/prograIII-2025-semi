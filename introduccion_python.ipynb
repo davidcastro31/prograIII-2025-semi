{
  "nbformat": 4,
  "nbformat_minor": 0,
  "metadata": {
    "colab": {
      "provenance": [],
      "authorship_tag": "ABX9TyOHh/M1gnSaNG0LEtIn7Ppx",
      "include_colab_link": true
    },
    "kernelspec": {
      "name": "python3",
      "display_name": "Python 3"
    },
    "language_info": {
      "name": "python"
    }
  },
  "cells": [
    {
      "cell_type": "markdown",
      "metadata": {
        "id": "view-in-github",
        "colab_type": "text"
      },
      "source": [
        "<a href=\"https://colab.research.google.com/github/davidcastro31/prograIII-2025-semi/blob/main/introduccion_python.ipynb\" target=\"_parent\"><img src=\"https://colab.research.google.com/assets/colab-badge.svg\" alt=\"Open In Colab\"/></a>"
      ]
    },
    {
      "cell_type": "code",
      "execution_count": null,
      "metadata": {
        "colab": {
          "base_uri": "https://localhost:8080/"
        },
        "id": "AsTJbBVUb2T5",
        "outputId": "1003921a-a7b7-4a95-eb24-1f6035337ab6"
      },
      "outputs": [
        {
          "output_type": "stream",
          "name": "stdout",
          "text": [
            "hola mundo\n",
            "Bienvenido chicos a Programacion Computacional III\n"
          ]
        }
      ],
      "source": [
        "print('hola mundo')\n",
        "print('Bienvenido chicos a Programacion Computacional III')"
      ]
    },
    {
      "cell_type": "code",
      "source": [
        "nombre = 'David Castro'\n",
        "edad = 5\n",
        "print('hola', nombre, edad)\n",
        "\n",
        "edad = 'cinco'\n",
        "print('Tu edad: ', edad)"
      ],
      "metadata": {
        "colab": {
          "base_uri": "https://localhost:8080/"
        },
        "id": "b4t6gSNhdTxg",
        "outputId": "131ae991-0305-4879-8535-5f8b278d59d9"
      },
      "execution_count": null,
      "outputs": [
        {
          "output_type": "stream",
          "name": "stdout",
          "text": [
            "hola David Castro 5\n",
            "Tu edad:  cinco\n"
          ]
        }
      ]
    },
    {
      "cell_type": "code",
      "source": [
        "num1 = 5\n",
        "num2 = 8.9\n",
        "suma = num1 + num2\n",
        "print('la suma es:', suma)"
      ],
      "metadata": {
        "colab": {
          "base_uri": "https://localhost:8080/"
        },
        "id": "IRYZG-TOesvA",
        "outputId": "742a0c35-ef3d-47a5-92ee-0372e7f700a9"
      },
      "execution_count": null,
      "outputs": [
        {
          "output_type": "stream",
          "name": "stdout",
          "text": [
            "la suma es: 13.9\n"
          ]
        }
      ]
    },
    {
      "cell_type": "code",
      "source": [
        "num1 = float (input('Ingrese el primer numero: '))\n",
        "num2 = float (input('Ingrese el segundo numero: '))\n",
        "suma = num1 + num2\n",
        "print('la suma es:', suma)"
      ],
      "metadata": {
        "colab": {
          "base_uri": "https://localhost:8080/"
        },
        "id": "Vhfyiccqfh_b",
        "outputId": "9dfc1afd-f939-49c6-efb3-61d990466e07"
      },
      "execution_count": null,
      "outputs": [
        {
          "output_type": "stream",
          "name": "stdout",
          "text": [
            "Ingrese el primer numero: 10\n",
            "Ingrese el segundo numero: 11\n",
            "la suma es: 21.0\n"
          ]
        }
      ]
    },
    {
      "cell_type": "code",
      "source": [
        "num1 = float (input('Ingrese el primer numero: '))\n",
        "num2 = float (input('Ingrese el segundo numero: '))\n",
        "rest = num1 - num2\n",
        "print('la resta de', num1, '-', num2, 'es:', rest)"
      ],
      "metadata": {
        "colab": {
          "base_uri": "https://localhost:8080/"
        },
        "id": "V9uOYaSMh2se",
        "outputId": "0e18720b-9cf7-42a0-b3a8-b17f14dffdc3"
      },
      "execution_count": null,
      "outputs": [
        {
          "output_type": "stream",
          "name": "stdout",
          "text": [
            "Ingrese el primer numero: 5\n",
            "Ingrese el segundo numero: 5\n",
            "la resta de 5.0 - 5.0 es: 0.0\n"
          ]
        }
      ]
    },
    {
      "cell_type": "markdown",
      "source": [
        "TIPOS DE DATOS EN PYTHON"
      ],
      "metadata": {
        "id": "6o6hYYV74Jor"
      }
    },
    {
      "cell_type": "code",
      "source": [
        "#ENTERO\n",
        "num1 = 6\n",
        "print(num1, \"Esto es un numero entero\")\n",
        "print( str(num1) + \" Esto es un entero\"  )\n",
        "\n",
        "#DECIMAL\n",
        "num2 = 7.5\n",
        "print(num2, \"Esto es un numero decimal\")\n",
        "\n",
        "#BOOLEANO\n",
        "esMayor = True\n",
        "print(esMayor, \"Esto es un booleano\")\n",
        "\n",
        "#CADENA\n",
        "nombre = \"David Castro\"\n",
        "cadena = input(\"Dime una cadena: \")\n",
        "valor = int(input(\"Dime un valor: \"))\n",
        "print(nombre, \"Esto es una cadena\", cadena[:valor])\n",
        "\n",
        "print( nombre, \"Letra inicial\", nombre[0],  \"Un valor especifico\", nombre[5], \"rango\", nombre[0:4], \"Comenzar desde el final\", nombre[-1])\n",
        "print( nombre[5:len(nombre)], nombre[:4] )\n",
        "print(type(nombre))"
      ],
      "metadata": {
        "id": "-fCK4O-k4Njj",
        "outputId": "c38a919f-9368-4910-9b89-b7aaf8ba3c8a",
        "colab": {
          "base_uri": "https://localhost:8080/"
        }
      },
      "execution_count": null,
      "outputs": [
        {
          "output_type": "stream",
          "name": "stdout",
          "text": [
            "6 Esto es un numero entero\n",
            "6 Esto es un entero\n",
            "7.5 Esto es un numero decimal\n",
            "True Esto es un booleano\n",
            "Dime una cadena: David\n",
            "Dime un valor: 2\n",
            "David Castro Esto es una cadena Da\n",
            "David Castro Letra inicial D Un valor especifico   rango Davi Comenzar desde el final o\n",
            " Castro Davi\n",
            "<class 'str'>\n"
          ]
        }
      ]
    },
    {
      "cell_type": "code",
      "source": [
        "#FECHAS\n",
        "from datetime import datetime, date, time\n",
        "fecha = datetime.now()\n",
        "print(fecha, fecha.date(), fecha.time())\n",
        "print(type(fecha))\n",
        "\n",
        "fechaPersonalizada = date(2025,8,1)\n",
        "print(fechaPersonalizada)\n",
        "\n",
        "fecha = \"2025-08-08\"\n",
        "fecha = datetime.strptime(fecha, \"%Y-%m-%d\")\n",
        "print(fecha)\n",
        "\n",
        "print( fecha.strftime(\"%d/%m/%Y\"), \"Regresamos a clases \" )\n",
        "\n",
        "fechaNac = input(\"Dime tu fecha de nacimiento en formato d-m-Y: \")\n",
        "fechaNac = datetime.strptime(fechaNac, \"%d-%m-%Y\")\n",
        "print(fechaNac)"
      ],
      "metadata": {
        "id": "iKzh6VBK4Vo5",
        "outputId": "97bf2c1f-745f-47d5-a9bf-afbae4d3bc1b",
        "colab": {
          "base_uri": "https://localhost:8080/"
        }
      },
      "execution_count": null,
      "outputs": [
        {
          "output_type": "stream",
          "name": "stdout",
          "text": [
            "2025-07-29 01:52:13.203352 2025-07-29 01:52:13.203352\n",
            "<class 'datetime.datetime'>\n",
            "2025-08-01\n",
            "2025-08-08 00:00:00\n",
            "08/08/2025 Regresamos a clases \n",
            "Dime tu fecha de nacimiento en formato d-m-Y: 31-08-2006\n",
            "2006-08-31 00:00:00\n"
          ]
        }
      ]
    },
    {
      "cell_type": "markdown",
      "source": [
        "FUNCIONES EN PYTHON"
      ],
      "metadata": {
        "id": "Vldlnlvw4cPT"
      }
    },
    {
      "cell_type": "code",
      "source": [
        "#Suma\n",
        "def suma(num1, num2):\n",
        "  return num1 + num2\n"
      ],
      "metadata": {
        "id": "IihtwmFx4gG6"
      },
      "execution_count": null,
      "outputs": []
    },
    {
      "cell_type": "code",
      "source": [
        "print(\"La suma de 5 + 8 = \", suma(5,8))"
      ],
      "metadata": {
        "id": "IF0n2NUy5MCj",
        "outputId": "39e5e0ec-5cce-49bf-8651-4c3988860f4e",
        "colab": {
          "base_uri": "https://localhost:8080/"
        }
      },
      "execution_count": null,
      "outputs": [
        {
          "output_type": "stream",
          "name": "stdout",
          "text": [
            "La suma de 5 + 8 =  13\n"
          ]
        }
      ]
    },
    {
      "cell_type": "code",
      "source": [
        "num1 = float(input(\"Num1: \"))\n",
        "num2 = float(input(\"Num2: \"))\n",
        "respuesta = suma(num1, num2)\n",
        "print(\"La suma es: \", respuesta)"
      ],
      "metadata": {
        "id": "_Z9Z-obQ5OBS",
        "outputId": "0cd30dab-8510-4d37-f2dc-dc1e7e4b243b",
        "colab": {
          "base_uri": "https://localhost:8080/"
        }
      },
      "execution_count": null,
      "outputs": [
        {
          "output_type": "stream",
          "name": "stdout",
          "text": [
            "Num1: 5\n",
            "Num2: 6\n",
            "La suma es:  11.0\n"
          ]
        }
      ]
    },
    {
      "cell_type": "code",
      "source": [
        "#Resta\n",
        "def resta(num1, num2):\n",
        "  return num1 - num2\n",
        "\n",
        "num1 = float(input(\"Num1: \"))\n",
        "num2 = float(input(\"Num2: \"))\n",
        "respuesta = resta(num1, num2)\n",
        "print(\"La resta es: \", respuesta)"
      ],
      "metadata": {
        "id": "HPNM9EW25W9j",
        "outputId": "79b6736a-bcef-4b56-b774-ac76f9b1de40",
        "colab": {
          "base_uri": "https://localhost:8080/"
        }
      },
      "execution_count": null,
      "outputs": [
        {
          "output_type": "stream",
          "name": "stdout",
          "text": [
            "Num1: 4\n",
            "Num2: 2\n",
            "La resta es:  2.0\n"
          ]
        }
      ]
    },
    {
      "cell_type": "markdown",
      "source": [
        "**EJERCICIOS PRACTICOS**"
      ],
      "metadata": {
        "id": "y_ngbBDTsx1z"
      }
    },
    {
      "cell_type": "markdown",
      "source": [
        "**CALCULADOR DE SUELDO**"
      ],
      "metadata": {
        "id": "eCYWUSxGs9-S"
      }
    },
    {
      "cell_type": "code",
      "source": [
        "sueldo = float(input(\"Ingrese su sueldo: $\"))\n",
        "\n",
        "isss = sueldo * 0.03\n",
        "afp = sueldo * 0.0725\n",
        "\n",
        "sueldo_para_isr = sueldo - afp\n",
        "\n",
        "if sueldo_para_isr <= 472.00:\n",
        "    isr = 0\n",
        "elif sueldo_para_isr <= 895.24:\n",
        "    isr = (sueldo_para_isr - 472.00) * 0.10 + 15.27\n",
        "elif sueldo_para_isr <= 2038.10:\n",
        "    isr = (sueldo_para_isr - 895.24) * 0.20 + 60.00\n",
        "else:\n",
        "    isr = (sueldo_para_isr - 2038.10) * 0.30 + 288.57\n",
        "\n",
        "total_deducciones = isss + afp + isr\n",
        "sueldo_neto = sueldo - total_deducciones\n",
        "sueldo_neto_quincenal = sueldo_neto / 2\n",
        "\n",
        "print(\"Resultados:\")\n",
        "print(f\"ISSS (3%): ${isss:.2f}\")\n",
        "print(f\"AFP (7.25%): ${afp:.2f}\")\n",
        "print(f\"Sueldo para ISR (Sueldo - AFP): ${sueldo_para_isr:.2f}\")\n",
        "print(f\"ISR: ${isr:.2f}\")\n",
        "print(f\"Total deducciones: ${total_deducciones:.2f}\")\n",
        "print(f\"Sueldo neto mensual: ${sueldo_neto:.2f}\")\n",
        "print(f\"Sueldo neto quincenal: ${sueldo_neto_quincenal:.2f}\")\n",
        "print()"
      ],
      "metadata": {
        "id": "2GUm1J_NtF7l"
      },
      "execution_count": null,
      "outputs": []
    },
    {
      "cell_type": "markdown",
      "source": [
        "**TARIFA DE AGUA**"
      ],
      "metadata": {
        "id": "G8df0xrStKyt"
      }
    },
    {
      "cell_type": "code",
      "source": [
        "metros = int(input(\"Ingrese los metros consumidos: \"))\n",
        "total_pagar = 0\n",
        "\n",
        "if metros >= 1 and metros <= 18:\n",
        "    total_pagar = 6\n",
        "elif metros >= 19 and metros <= 28:\n",
        "    exceso = metros - 18\n",
        "    total_pagar = 6 + (exceso * 0.45)\n",
        "elif metros >= 29:\n",
        "    total_28 = 6 + ((28 - 18) * 0.45)\n",
        "    exceso_29 = metros - 28\n",
        "    total_pagar = total_28 + (exceso_29 * 0.65)\n",
        "\n",
        "print(f\"Total a pagar: ${total_pagar:.2f}\")\n",
        "print()"
      ],
      "metadata": {
        "id": "v6Xj2tMQtPBG"
      },
      "execution_count": null,
      "outputs": []
    },
    {
      "cell_type": "markdown",
      "source": [
        "**TABLA DE MESES ACUMULADO**"
      ],
      "metadata": {
        "id": "93bQ62IvtRmR"
      }
    },
    {
      "cell_type": "code",
      "source": [
        "n = int(input(\"Ingrese el número de meses: \"))\n",
        "\n",
        "print(\"MES\\tACUMULACION\")\n",
        "acumulado = 0\n",
        "for mes in range(1, n+1):\n",
        "    acumulado = acumulado + mes\n",
        "    print(f\"{mes}\\t{acumulado}\")\n",
        "\n",
        "print(f\"\\nUsando fórmula para mes {n}: {n *(n+1)//2}\")"
      ],
      "metadata": {
        "id": "NhU_j1sAtWsv"
      },
      "execution_count": null,
      "outputs": []
    },
    {
      "cell_type": "markdown",
      "source": [
        "**CONVERSOR**"
      ],
      "metadata": {
        "id": "9FJfLObbtbG0"
      }
    },
    {
      "cell_type": "code",
      "source": [
        "LONGITUD = [\n",
        "  (\"milímetro (mm)\", 0.001),\n",
        "  (\"centímetro (cm)\", 0.01),\n",
        "  (\"metro (m)\", 1.0),\n",
        "  (\"kilómetro (km)\", 1000.0),\n",
        "  (\"pulgada (in)\", 0.0254),\n",
        "  (\"pie (ft)\", 0.3048),\n",
        "  (\"yarda (yd)\", 0.9144),\n",
        "  (\"milla (mi)\", 1609.344),\n",
        "  (\"micrómetro (µm)\", 1e-6),\n",
        "  (\"milla náutica (NM)\", 1852.0),\n",
        "]\n",
        "\n",
        "MASA = [\n",
        "  (\"microgramo (µg)\", 1e-9),\n",
        "  (\"miligramo (mg)\", 1e-6),\n",
        "  (\"gramo (g)\", 0.001),\n",
        "  (\"kilogramo (kg)\", 1.0),\n",
        "  (\"tonelada (t)\", 1000.0),\n",
        "  (\"onza (oz)\", 0.028349523125),\n",
        "  (\"libra (lb)\", 0.45359237),\n",
        "  (\"quintal (qq)\", 46.0),\n",
        "  (\"quilate (ct)\", 0.0002),\n",
        "  (\"arroba (@)\", 11.502),\n",
        "]\n",
        "\n",
        "ALMACENAMIENTO = [\n",
        "  (\"bit\", 0.125),\n",
        "  (\"byte\", 1),\n",
        "  (\"kilobyte (KB)\", 1000),\n",
        "  (\"megabyte (MB)\", 1000000),\n",
        "  (\"gigabyte (GB)\", 1000000000),\n",
        "  (\"terabyte (TB)\", 1000000000000),\n",
        "  (\"petabyte (PB)\", 1000000000000000),\n",
        "  (\"kibibyte (KiB)\", 1024),\n",
        "  (\"mebibyte (MiB)\", 1048576),\n",
        "  (\"gibibyte (GiB)\", 1073741824),\n",
        "]\n",
        "\n",
        "TIEMPO = [\n",
        "  (\"milisegundo (ms)\", 0.001),\n",
        "  (\"segundo (s)\", 1.0),\n",
        "  (\"minuto (min)\", 60.0),\n",
        "  (\"hora (h)\", 3600.0),\n",
        "  (\"día\", 86400.0),\n",
        "  (\"semana\", 604800.0),\n",
        "  (\"mes (30d)\", 2592000.0),\n",
        "  (\"año (365d)\", 31536000.0),\n",
        "  (\"década\", 315360000.0),\n",
        "  (\"siglo\", 3153600000.0),\n",
        "]\n",
        "\n",
        "VOLUMEN = [\n",
        "  (\"metro cúbico (m³)\", 1.0),\n",
        "  (\"litro (L)\", 0.001),\n",
        "  (\"mililitro (mL)\", 0.000001),\n",
        "  (\"centímetro cúbico (cm³)\", 1e-6),\n",
        "  (\"pulgada cúbica (in³)\", 1.6387064e-5),\n",
        "  (\"pie cúbico (ft³)\", 0.028316846592),\n",
        "  (\"yarda cúbica (yd³)\", 0.764554857984),\n",
        "  (\"galón US\", 0.003785411784),\n",
        "  (\"cuarto US\", 0.000946352946),\n",
        "  (\"pinta US\", 0.000473176473),\n",
        "]\n",
        "\n",
        "AREA = [\n",
        "  (\"metro cuadrado (m²)\", 1.0),\n",
        "  (\"kilómetro cuadrado (km²)\", 1000000.0),\n",
        "  (\"hectárea (ha)\", 10000.0),\n",
        "  (\"acre\", 4046.8564224),\n",
        "  (\"pie cuadrado (ft²)\", 0.09290304),\n",
        "  (\"pulgada cuadrada (in²)\", 0.00064516),\n",
        "  (\"centímetro cuadrado (cm²)\", 0.0001),\n",
        "  (\"manzana salvadoreña\", 6988.96),\n",
        "  (\"tarea salvadoreña\", 628.8),\n",
        "  (\"yarda cuadrada (yd²)\", 0.83612736),\n",
        "]\n",
        "\n",
        "MONEDAS = [\n",
        "  (\"Dólar estadounidense (USD)\", 1.0),\n",
        "  (\"Euro (EUR)\", 0.8573),\n",
        "  (\"Libra esterlina (GBP)\", 0.7376),\n",
        "  (\"Yen japonés (JPY)\", 147.25),\n",
        "  (\"Peso mexicano (MXN)\", 18.85),\n",
        "  (\"Dólar canadiense (CAD)\", 1.3805),\n",
        "  (\"Dólar australiano (AUD)\", 1.5340),\n",
        "  (\"Franco suizo (CHF)\", 0.8570),\n",
        "  (\"Yuan chino (CNY)\", 7.1850),\n",
        "  (\"Real brasileño (BRL)\", 5.4200),\n",
        "]\n",
        "\n",
        "CATEGORIAS = [\n",
        "  (\"monedas\", MONEDAS),\n",
        "  (\"longitud\", LONGITUD),\n",
        "  (\"masa\", MASA),\n",
        "  (\"almacenamiento\", ALMACENAMIENTO),\n",
        "  (\"tiempo\", TIEMPO),\n",
        "  (\"volumen\", VOLUMEN),\n",
        "  (\"área\", AREA),\n",
        "]\n",
        "\n",
        "\n",
        "for _ in range(1000000):\n",
        "    print()\n",
        "    print(\"=\"*50)\n",
        "    print(\"        CONVERSOR DE UNIDADES EXACTO\")\n",
        "    print(\"=\"*50)\n",
        "    print(\"Elige una categoría:\")\n",
        "    print()\n",
        "\n",
        "    for i, cat in enumerate(CATEGORIAS, 1):\n",
        "        print(f\"{i} - {cat[0].upper()}\")\n",
        "    print()\n",
        "\n",
        "    try:\n",
        "        cat_sel = int(input(\"Número de categoría: \")) - 1\n",
        "        if cat_sel < 0 or cat_sel >= len(CATEGORIAS):\n",
        "            print(\"¡Opción no válida! Intenta de nuevo.\")\n",
        "            continue\n",
        "    except ValueError:\n",
        "        print(\"¡Por favor ingresa un número válido!\")\n",
        "        continue\n",
        "\n",
        "    nombre_cat, lista = CATEGORIAS[cat_sel]\n",
        "\n",
        "    print()\n",
        "    print(f\"Has elegido: {nombre_cat.upper()}\")\n",
        "    print()\n",
        "    print(\"Unidad origen:\")\n",
        "    for i, item in enumerate(lista, 1):\n",
        "        print(f\"{i} - {item[0]}\")\n",
        "    print()\n",
        "\n",
        "    try:\n",
        "        from_i = int(input(\"Número unidad origen: \")) - 1\n",
        "        if from_i < 0 or from_i >= len(lista):\n",
        "            print(\"¡Opción no válida!\")\n",
        "            continue\n",
        "    except ValueError:\n",
        "        print(\"¡Por favor ingresa un número válido!\")\n",
        "        continue\n",
        "\n",
        "    print()\n",
        "    print(\"Unidad destino:\")\n",
        "    for i, item in enumerate(lista, 1):\n",
        "        print(f\"{i} - {item[0]}\")\n",
        "    print()\n",
        "\n",
        "    try:\n",
        "        to_i = int(input(\"Número unidad destino: \")) - 1\n",
        "        if to_i < 0 or to_i >= len(lista):\n",
        "            print(\"¡Opción no válida!\")\n",
        "            continue\n",
        "    except ValueError:\n",
        "        print(\"¡Por favor ingresa un número válido!\")\n",
        "        continue\n",
        "\n",
        "    print()\n",
        "    try:\n",
        "        valor = float(input(\"Valor a convertir: \"))\n",
        "    except ValueError:\n",
        "        print(\"¡Por favor ingresa un número válido!\")\n",
        "        continue\n",
        "\n",
        "    nombre_from, factor_from = lista[from_i]\n",
        "    nombre_to, factor_to = lista[to_i]\n",
        "\n",
        "    if nombre_cat == \"monedas\":\n",
        "        usd_valor = valor / factor_from\n",
        "        resultado = usd_valor * factor_to\n",
        "    else:\n",
        "        base_valor = valor * factor_from\n",
        "        resultado = base_valor / factor_to\n",
        "\n",
        "    print()\n",
        "    print(\"=\"*60)\n",
        "    print(f\"RESULTADO:\")\n",
        "    print(f\"{valor} {nombre_from}\")\n",
        "    print(f\"= {resultado:.10f} {nombre_to}\")\n",
        "    print(\"=\"*60)\n",
        "    print()\n",
        "\n",
        "    if abs(resultado) >= 0.01 or resultado == 0:\n",
        "        print(f\"Redondeado: {resultado:.2f} {nombre_to}\")\n",
        "    else:\n",
        "        print(f\"Valor muy pequeño: {resultado:.10f} {nombre_to}\")\n",
        "    print()\n",
        "\n",
        "    otra = input(\"¿Quieres convertir otra vez? (s para sí / cualquier otra tecla para no): \").strip().lower()\n",
        "    if otra != \"s\":\n",
        "        print()\n",
        "        print(\"=\"*50)\n",
        "        print(\"   ¡Gracias por usar el conversor!\")\n",
        "        print(\"=\"*50)\n",
        "        break"
      ],
      "metadata": {
        "id": "Brexk2cctfIW"
      },
      "execution_count": null,
      "outputs": []
    },
    {
      "cell_type": "markdown",
      "source": [
        "**CONVERSOR PROPIO**"
      ],
      "metadata": {
        "id": "l4axntI-tofq"
      }
    },
    {
      "cell_type": "code",
      "source": [
        "while True:\n",
        "    print(\"\\n CONVERSOR\")\n",
        "    print(\"1) Cajas <-> Unidades (1 caja = 25 unidades)\")\n",
        "    print(\"2) Sacos <-> Libras   (1 saco = 50 libras)\")\n",
        "    print(\"3) Fardos <-> Unidades (1 fardo = 5 unidades)\")\n",
        "    print(\"4) Salir\")\n",
        "\n",
        "    opcion = input(\"Elige una opción: \")\n",
        "\n",
        "    if opcion == \"1\":\n",
        "        cajas = int(input(\"Ingresa cantidad de cajas: \"))\n",
        "        print(cajas, \"cajas =\", cajas * 25, \"unidades\")\n",
        "\n",
        "        unidades = int(input(\"Ingresa cantidad de unidades: \"))\n",
        "        print(unidades, \"unidades =\", unidades // 25, \"cajas y\", unidades % 25, \"unidades\")\n",
        "\n",
        "    elif opcion == \"2\":\n",
        "        sacos = int(input(\"Ingresa cantidad de sacos: \"))\n",
        "        print(sacos, \"sacos =\", sacos * 50, \"libras\")\n",
        "\n",
        "        libras = int(input(\"Ingresa cantidad de libras: \"))\n",
        "        print(libras, \"libras =\", libras // 50, \"sacos y\", libras % 50, \"libras\")\n",
        "\n",
        "    elif opcion == \"3\":\n",
        "        fardos = int(input(\"Ingresa cantidad de fardos: \"))\n",
        "        print(fardos, \"fardos =\", fardos * 5, \"unidades\")\n",
        "\n",
        "        unidades2 = int(input(\"Ingresa cantidad de unidades: \"))\n",
        "        print(unidades2, \"unidades =\", unidades2 // 5, \"fardos y\", unidades2 % 5, \"unidades\")\n",
        "\n",
        "    elif opcion == \"4\":\n",
        "        print(\"Feliz Dia\")\n",
        "        break\n",
        "    else:\n",
        "        print(\"Opción no válida, intenta de nuevo.\")"
      ],
      "metadata": {
        "id": "K2SCSIXjtvKn"
      },
      "execution_count": null,
      "outputs": []
    },
    {
      "cell_type": "markdown",
      "source": [
        "Impuesto a las actividades economicas"
      ],
      "metadata": {
        "id": "ZIpgjl8OufDD"
      }
    },
    {
      "cell_type": "code",
      "source": [
        "def calcular_impuesto(monto):\n",
        "    rangos = [\n",
        "        (0.01, 500, 1.5, 0),\n",
        "        (500.01, 1000, 1.5, 3),\n",
        "        (1000.01, 2000, 3, 3),\n",
        "        (2000.01, 3000, 6, 3),\n",
        "        (3000.01, 6000, 9, 2),\n",
        "        (8000.01, 18000, 15, 2),\n",
        "        (18000.01, 30000, 39, 2),\n",
        "        (30000.01, 60000, 63, 1),\n",
        "        (60000.01, 100000, 93, 0.8),\n",
        "        (100000.01, 200000, 125, 0.7),\n",
        "        (200000.01, 300000, 195, 0.6),\n",
        "        (300000.01, 400000, 255, 0.45),\n",
        "        (400000.01, 500000, 300, 0.4),\n",
        "        (500000.01, 1000000, 340, 0.30),\n",
        "        (1000000.01, 99999999, 490, 0.18)\n",
        "    ]\n",
        "\n",
        "    for desde, hasta, precio, adicional in rangos:\n",
        "        if desde <= monto <= hasta:\n",
        "            impuesto = ((monto - desde) / 1000) * adicional + precio\n",
        "            return round(impuesto, 2)\n",
        "\n",
        "    return\n",
        "\n",
        "monto = float(input(\"Ingrese el monto de la actividad económica: $\"))\n",
        "impuesto = calcular_impuesto(monto)\n",
        "\n",
        "if impuesto is None:\n",
        "    print(\"No se puede calcular impuesto.\")\n",
        "else:\n",
        "    print(f\"El impuesto a pagar es: ${impuesto}\")"
      ],
      "metadata": {
        "id": "Lx3U1b_Aui4s"
      },
      "execution_count": null,
      "outputs": []
    },
    {
      "cell_type": "markdown",
      "source": [
        "Coversor de area"
      ],
      "metadata": {
        "id": "yA1kx0jsunaV"
      }
    },
    {
      "cell_type": "code",
      "source": [
        "def convertir_area(valor, unidad_origen, unidad_destino):\n",
        "    # Factores de conversión basados en el metro cuadrado (m²)\n",
        "    factores = {\n",
        "        \"pie cuadrado\": 0.092903,\n",
        "        \"vara cuadrada\": 0.6987,\n",
        "        \"yarda cuadrada\": 0.836127,\n",
        "        \"metro cuadrado\": 1,\n",
        "        \"tarea\": 437.5,\n",
        "        \"manzana\": 6987.42,\n",
        "        \"hectarea\": 10000\n",
        "    }\n",
        "\n",
        "    valor_metros = valor * factores[unidad_origen]\n",
        "\n",
        "    resultado = valor_metros / factores[unidad_destino]\n",
        "    return resultado\n",
        "\n",
        "\n",
        "def mostrar_menu():\n",
        "    print(\"\\n===== CONVERSOR DE ÁREA (El Salvador) =====\")\n",
        "    print(\"1. Pie Cuadrado\")\n",
        "    print(\"2. Vara Cuadrada\")\n",
        "    print(\"3. Yarda Cuadrada\")\n",
        "    print(\"4. Metro Cuadrado\")\n",
        "    print(\"5. Tarea\")\n",
        "    print(\"6. Manzana\")\n",
        "    print(\"7. Hectárea\")\n",
        "\n",
        "\n",
        "while True:\n",
        "    mostrar_menu()\n",
        "    unidades = {\n",
        "        \"1\": \"pie cuadrado\",\n",
        "        \"2\": \"vara cuadrada\",\n",
        "        \"3\": \"yarda cuadrada\",\n",
        "        \"4\": \"metro cuadrado\",\n",
        "        \"5\": \"tarea\",\n",
        "        \"6\": \"manzana\",\n",
        "        \"7\": \"hectarea\"\n",
        "    }\n",
        "\n",
        "    origen = input(\"\\nSeleccione la unidad de ORIGEN (1-7) o 'salir': \").lower()\n",
        "    if origen == \"salir\":\n",
        "        print(\"Gracias por usar el conversor. ¡Hasta luego!\")\n",
        "        break\n",
        "\n",
        "    destino = input(\"Seleccione la unidad de DESTINO (1-7): \").lower()\n",
        "\n",
        "    if origen in unidades and destino in unidades:\n",
        "        valor = float(input(f\"Ingrese el valor en {unidades[origen]}: \"))\n",
        "        resultado = convertir_area(valor, unidades[origen], unidades[destino])\n",
        "        print(f\"\\n {valor} {unidades[origen]} equivalen a {resultado:.4f} {unidades[destino]}\")\n",
        "    else:\n",
        "        print(\"Opción inválida, intente de nuevo.\")"
      ],
      "metadata": {
        "id": "H9wWxOEOuq7p"
      },
      "execution_count": null,
      "outputs": []
    },
    {
      "cell_type": "markdown",
      "source": [
        "Cajero Automatico"
      ],
      "metadata": {
        "id": "fVUdr07CuwCY"
      }
    },
    {
      "cell_type": "code",
      "source": [
        "def cajero_automatico(monto):\n",
        "    billetes = [100, 50, 20, 10, 5, 1]\n",
        "    monedas = [0.25, 0.10, 0.05, 0.01]\n",
        "\n",
        "    print(f\"\\nCantidad a retirar: ${monto:.2f}\\n\")\n",
        "\n",
        "    for b in billetes:\n",
        "        if monto >= b:\n",
        "            cantidad = int(monto // b)\n",
        "            monto = round(monto - cantidad * b, 2)\n",
        "            print(f\"{cantidad} billete(s) de ${b}\")\n",
        "\n",
        "    for m in monedas:\n",
        "        if monto >= m:\n",
        "            cantidad = int(monto // m)\n",
        "            monto = round(monto - cantidad * m, 2)\n",
        "            print(f\"{cantidad} moneda(s) de ${m:.2f}\")\n",
        "\n",
        "    if monto > 0:\n",
        "        print(f\"Cantidad restante no procesada: {monto}\")\n",
        "\n",
        "monto = float(input(\"Ingrese la cantidad a retirar: $\"))\n",
        "cajero_automatico(monto)"
      ],
      "metadata": {
        "id": "jbVGVAo-uzgE"
      },
      "execution_count": null,
      "outputs": []
    }
  ]
}