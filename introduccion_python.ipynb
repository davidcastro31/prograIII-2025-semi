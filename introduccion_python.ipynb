{
  "nbformat": 4,
  "nbformat_minor": 0,
  "metadata": {
    "colab": {
      "provenance": [],
      "authorship_tag": "ABX9TyMRwgWHuqrhlWZmOXiKr/fD",
      "include_colab_link": true
    },
    "kernelspec": {
      "name": "python3",
      "display_name": "Python 3"
    },
    "language_info": {
      "name": "python"
    }
  },
  "cells": [
    {
      "cell_type": "markdown",
      "metadata": {
        "id": "view-in-github",
        "colab_type": "text"
      },
      "source": [
        "<a href=\"https://colab.research.google.com/github/davidcastro31/prograIII-2025-semi/blob/main/introduccion_python.ipynb\" target=\"_parent\"><img src=\"https://colab.research.google.com/assets/colab-badge.svg\" alt=\"Open In Colab\"/></a>"
      ]
    },
    {
      "cell_type": "code",
      "execution_count": 2,
      "metadata": {
        "colab": {
          "base_uri": "https://localhost:8080/"
        },
        "id": "AsTJbBVUb2T5",
        "outputId": "1003921a-a7b7-4a95-eb24-1f6035337ab6"
      },
      "outputs": [
        {
          "output_type": "stream",
          "name": "stdout",
          "text": [
            "hola mundo\n",
            "Bienvenido chicos a Programacion Computacional III\n"
          ]
        }
      ],
      "source": [
        "print('hola mundo')\n",
        "print('Bienvenido chicos a Programacion Computacional III')"
      ]
    },
    {
      "cell_type": "code",
      "source": [
        "nombre = 'David Castro'\n",
        "edad = 5\n",
        "print('hola', nombre, edad)\n",
        "\n",
        "edad = 'cinco'\n",
        "print('Tu edad: ', edad)"
      ],
      "metadata": {
        "colab": {
          "base_uri": "https://localhost:8080/"
        },
        "id": "b4t6gSNhdTxg",
        "outputId": "131ae991-0305-4879-8535-5f8b278d59d9"
      },
      "execution_count": 4,
      "outputs": [
        {
          "output_type": "stream",
          "name": "stdout",
          "text": [
            "hola David Castro 5\n",
            "Tu edad:  cinco\n"
          ]
        }
      ]
    },
    {
      "cell_type": "code",
      "source": [
        "num1 = 5\n",
        "num2 = 8.9\n",
        "suma = num1 + num2\n",
        "print('la suma es:', suma)"
      ],
      "metadata": {
        "colab": {
          "base_uri": "https://localhost:8080/"
        },
        "id": "IRYZG-TOesvA",
        "outputId": "742a0c35-ef3d-47a5-92ee-0372e7f700a9"
      },
      "execution_count": 6,
      "outputs": [
        {
          "output_type": "stream",
          "name": "stdout",
          "text": [
            "la suma es: 13.9\n"
          ]
        }
      ]
    },
    {
      "cell_type": "code",
      "source": [
        "num1 = float (input('Ingrese el primer numero: '))\n",
        "num2 = float (input('Ingrese el segundo numero: '))\n",
        "suma = num1 + num2\n",
        "print('la suma es:', suma)"
      ],
      "metadata": {
        "colab": {
          "base_uri": "https://localhost:8080/"
        },
        "id": "Vhfyiccqfh_b",
        "outputId": "9dfc1afd-f939-49c6-efb3-61d990466e07"
      },
      "execution_count": 10,
      "outputs": [
        {
          "output_type": "stream",
          "name": "stdout",
          "text": [
            "Ingrese el primer numero: 10\n",
            "Ingrese el segundo numero: 11\n",
            "la suma es: 21.0\n"
          ]
        }
      ]
    },
    {
      "cell_type": "code",
      "source": [
        "num1 = float (input('Ingrese el primer numero: '))\n",
        "num2 = float (input('Ingrese el segundo numero: '))\n",
        "rest = num1 - num2\n",
        "print('la resta de', num1, '-', num2, 'es:', rest)"
      ],
      "metadata": {
        "colab": {
          "base_uri": "https://localhost:8080/"
        },
        "id": "V9uOYaSMh2se",
        "outputId": "0e18720b-9cf7-42a0-b3a8-b17f14dffdc3"
      },
      "execution_count": 12,
      "outputs": [
        {
          "output_type": "stream",
          "name": "stdout",
          "text": [
            "Ingrese el primer numero: 5\n",
            "Ingrese el segundo numero: 5\n",
            "la resta de 5.0 - 5.0 es: 0.0\n"
          ]
        }
      ]
    }
  ]
}